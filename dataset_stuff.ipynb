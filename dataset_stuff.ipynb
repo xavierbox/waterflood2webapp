{
 "cells": [
  {
   "cell_type": "code",
   "execution_count": 27,
   "metadata": {},
   "outputs": [
    {
     "name": "stdout",
     "output_type": "stream",
     "text": [
      "The autoreload extension is already loaded. To reload it, use:\n",
      "  %reload_ext autoreload\n",
      "Methods and properties of the CRMDataset class\n"
     ]
    },
    {
     "data": {
      "text/plain": [
       "['_generate_dataset',\n",
       " '_get_distance_patterns_helper',\n",
       " '_slice_dates_dataset',\n",
       " 'check_dataset',\n",
       " 'copy_from',\n",
       " 'filter_by',\n",
       " 'from_pattern',\n",
       " 'generate_default_dataset',\n",
       " 'generate_default_multiwell_dataset',\n",
       " 'get_column_names',\n",
       " 'get_distance_patterns',\n",
       " 'get_distances',\n",
       " 'get_distances_flat',\n",
       " 'get_explicit_pattern',\n",
       " 'get_pattern',\n",
       " 'injector_locations',\n",
       " 'injector_names',\n",
       " 'instance',\n",
       " 'mode_sampling_frequency',\n",
       " 'producer_locations',\n",
       " 'producer_names',\n",
       " 'slice_coordinates_dataset',\n",
       " 'slice_dates_dataset',\n",
       " 'very_old_get_distance_patterns',\n",
       " 'very_old_get_distance_patterns_helper']"
      ]
     },
     "execution_count": 27,
     "metadata": {},
     "output_type": "execute_result"
    }
   ],
   "source": [
    "%load_ext autoreload\n",
    "%autoreload 2\n",
    "\n",
    "import copy \n",
    "import sys\n",
    "from pathlib import Path\n",
    "\n",
    "sys.path.append('./')\n",
    "sys.path.append('../')\n",
    "sys.path.append('../..')\n",
    "\n",
    "def show( object ):\n",
    "  return [ x for x in dir( object ) if not x.startswith('__') ] \n",
    "\n",
    "    \n",
    "import pprint \n",
    "import pandas as pd\n",
    "#print( pd.__version__)  # must be 1.3.5 \n",
    "\n",
    "import numpy as np\n",
    "#print( np.__version__)  # must be 1.23.5\n",
    "\n",
    "assert( str(pd.__version__) == '1.3.5')\n",
    "assert( str(np.__version__) == '1.23.5')\n",
    "\n",
    "from wf_lib2.crm_definitions import *\n",
    "from wf_lib2.data.crm_dataset  import CRMDataset\n",
    "from wf_lib2.data.crm_pattern  import CRMPattern\n",
    "from wf_lib2.view_model.view_model import * \n",
    "import plotly.io as pio\n",
    "\n",
    "print('Methods and properties of the CRMDataset class')\n",
    "show( CRMDataset )\n"
   ]
  },
  {
   "cell_type": "code",
   "execution_count": 28,
   "metadata": {},
   "outputs": [
    {
     "name": "stdout",
     "output_type": "stream",
     "text": [
      "1053 1053\n",
      "Tying to guess the DATE format. dayforst ? False\n"
     ]
    },
    {
     "data": {
      "text/html": [
       "<div>\n",
       "<style scoped>\n",
       "    .dataframe tbody tr th:only-of-type {\n",
       "        vertical-align: middle;\n",
       "    }\n",
       "\n",
       "    .dataframe tbody tr th {\n",
       "        vertical-align: top;\n",
       "    }\n",
       "\n",
       "    .dataframe thead th {\n",
       "        text-align: right;\n",
       "    }\n",
       "</style>\n",
       "<table border=\"1\" class=\"dataframe\">\n",
       "  <thead>\n",
       "    <tr style=\"text-align: right;\">\n",
       "      <th></th>\n",
       "      <th>DATE</th>\n",
       "      <th>NAME</th>\n",
       "      <th>WATER_INJECTION_VOLUME</th>\n",
       "      <th>ZONE</th>\n",
       "      <th>SUBZONE</th>\n",
       "      <th>SECTOR</th>\n",
       "      <th>RESERVOIR</th>\n",
       "    </tr>\n",
       "  </thead>\n",
       "  <tbody>\n",
       "    <tr>\n",
       "      <th>0</th>\n",
       "      <td>2022-01-23</td>\n",
       "      <td>Inj0</td>\n",
       "      <td>354.719228</td>\n",
       "      <td>Unique</td>\n",
       "      <td>Unique</td>\n",
       "      <td>0</td>\n",
       "      <td>Unique</td>\n",
       "    </tr>\n",
       "    <tr>\n",
       "      <th>1</th>\n",
       "      <td>2022-01-24</td>\n",
       "      <td>Inj0</td>\n",
       "      <td>354.716843</td>\n",
       "      <td>Unique</td>\n",
       "      <td>Unique</td>\n",
       "      <td>0</td>\n",
       "      <td>Unique</td>\n",
       "    </tr>\n",
       "    <tr>\n",
       "      <th>2</th>\n",
       "      <td>2022-01-25</td>\n",
       "      <td>Inj0</td>\n",
       "      <td>354.720018</td>\n",
       "      <td>Unique</td>\n",
       "      <td>Unique</td>\n",
       "      <td>0</td>\n",
       "      <td>Unique</td>\n",
       "    </tr>\n",
       "    <tr>\n",
       "      <th>3</th>\n",
       "      <td>2022-01-26</td>\n",
       "      <td>Inj0</td>\n",
       "      <td>354.720355</td>\n",
       "      <td>Unique</td>\n",
       "      <td>Unique</td>\n",
       "      <td>0</td>\n",
       "      <td>Unique</td>\n",
       "    </tr>\n",
       "    <tr>\n",
       "      <th>4</th>\n",
       "      <td>2022-01-27</td>\n",
       "      <td>Inj0</td>\n",
       "      <td>294.735906</td>\n",
       "      <td>Unique</td>\n",
       "      <td>Unique</td>\n",
       "      <td>0</td>\n",
       "      <td>Unique</td>\n",
       "    </tr>\n",
       "  </tbody>\n",
       "</table>\n",
       "</div>"
      ],
      "text/plain": [
       "        DATE  NAME  WATER_INJECTION_VOLUME    ZONE SUBZONE  SECTOR RESERVOIR\n",
       "0 2022-01-23  Inj0              354.719228  Unique  Unique       0    Unique\n",
       "1 2022-01-24  Inj0              354.716843  Unique  Unique       0    Unique\n",
       "2 2022-01-25  Inj0              354.720018  Unique  Unique       0    Unique\n",
       "3 2022-01-26  Inj0              354.720355  Unique  Unique       0    Unique\n",
       "4 2022-01-27  Inj0              294.735906  Unique  Unique       0    Unique"
      ]
     },
     "metadata": {},
     "output_type": "display_data"
    },
    {
     "data": {
      "text/html": [
       "<div>\n",
       "<style scoped>\n",
       "    .dataframe tbody tr th:only-of-type {\n",
       "        vertical-align: middle;\n",
       "    }\n",
       "\n",
       "    .dataframe tbody tr th {\n",
       "        vertical-align: top;\n",
       "    }\n",
       "\n",
       "    .dataframe thead th {\n",
       "        text-align: right;\n",
       "    }\n",
       "</style>\n",
       "<table border=\"1\" class=\"dataframe\">\n",
       "  <thead>\n",
       "    <tr style=\"text-align: right;\">\n",
       "      <th></th>\n",
       "      <th>DATE</th>\n",
       "      <th>NAME</th>\n",
       "      <th>LIQUID_VOLUME</th>\n",
       "      <th>WATER_VOLUME</th>\n",
       "      <th>GAS_VOLUME</th>\n",
       "      <th>OIL_VOLUME</th>\n",
       "      <th>ZONE</th>\n",
       "      <th>SUBZONE</th>\n",
       "      <th>SECTOR</th>\n",
       "      <th>RESERVOIR</th>\n",
       "    </tr>\n",
       "  </thead>\n",
       "  <tbody>\n",
       "    <tr>\n",
       "      <th>0</th>\n",
       "      <td>2022-01-23</td>\n",
       "      <td>Producer1</td>\n",
       "      <td>30.598382</td>\n",
       "      <td>30.598382</td>\n",
       "      <td>0.0</td>\n",
       "      <td>0.0</td>\n",
       "      <td>Unique</td>\n",
       "      <td>Unique</td>\n",
       "      <td>0</td>\n",
       "      <td>Unique</td>\n",
       "    </tr>\n",
       "    <tr>\n",
       "      <th>1</th>\n",
       "      <td>2022-01-24</td>\n",
       "      <td>Producer1</td>\n",
       "      <td>59.143985</td>\n",
       "      <td>59.143985</td>\n",
       "      <td>0.0</td>\n",
       "      <td>0.0</td>\n",
       "      <td>Unique</td>\n",
       "      <td>Unique</td>\n",
       "      <td>0</td>\n",
       "      <td>Unique</td>\n",
       "    </tr>\n",
       "    <tr>\n",
       "      <th>2</th>\n",
       "      <td>2022-01-25</td>\n",
       "      <td>Producer1</td>\n",
       "      <td>85.848004</td>\n",
       "      <td>85.848004</td>\n",
       "      <td>0.0</td>\n",
       "      <td>0.0</td>\n",
       "      <td>Unique</td>\n",
       "      <td>Unique</td>\n",
       "      <td>0</td>\n",
       "      <td>Unique</td>\n",
       "    </tr>\n",
       "    <tr>\n",
       "      <th>3</th>\n",
       "      <td>2022-01-26</td>\n",
       "      <td>Producer1</td>\n",
       "      <td>110.830344</td>\n",
       "      <td>110.830344</td>\n",
       "      <td>0.0</td>\n",
       "      <td>0.0</td>\n",
       "      <td>Unique</td>\n",
       "      <td>Unique</td>\n",
       "      <td>0</td>\n",
       "      <td>Unique</td>\n",
       "    </tr>\n",
       "    <tr>\n",
       "      <th>4</th>\n",
       "      <td>2022-01-27</td>\n",
       "      <td>Producer1</td>\n",
       "      <td>131.879565</td>\n",
       "      <td>131.879565</td>\n",
       "      <td>0.0</td>\n",
       "      <td>0.0</td>\n",
       "      <td>Unique</td>\n",
       "      <td>Unique</td>\n",
       "      <td>0</td>\n",
       "      <td>Unique</td>\n",
       "    </tr>\n",
       "  </tbody>\n",
       "</table>\n",
       "</div>"
      ],
      "text/plain": [
       "        DATE       NAME  LIQUID_VOLUME  WATER_VOLUME  GAS_VOLUME  OIL_VOLUME  \\\n",
       "0 2022-01-23  Producer1      30.598382     30.598382         0.0         0.0   \n",
       "1 2022-01-24  Producer1      59.143985     59.143985         0.0         0.0   \n",
       "2 2022-01-25  Producer1      85.848004     85.848004         0.0         0.0   \n",
       "3 2022-01-26  Producer1     110.830344    110.830344         0.0         0.0   \n",
       "4 2022-01-27  Producer1     131.879565    131.879565         0.0         0.0   \n",
       "\n",
       "     ZONE SUBZONE  SECTOR RESERVOIR  \n",
       "0  Unique  Unique       0    Unique  \n",
       "1  Unique  Unique       0    Unique  \n",
       "2  Unique  Unique       0    Unique  \n",
       "3  Unique  Unique       0    Unique  \n",
       "4  Unique  Unique       0    Unique  "
      ]
     },
     "metadata": {},
     "output_type": "display_data"
    },
    {
     "data": {
      "text/html": [
       "<div>\n",
       "<style scoped>\n",
       "    .dataframe tbody tr th:only-of-type {\n",
       "        vertical-align: middle;\n",
       "    }\n",
       "\n",
       "    .dataframe tbody tr th {\n",
       "        vertical-align: top;\n",
       "    }\n",
       "\n",
       "    .dataframe thead th {\n",
       "        text-align: right;\n",
       "    }\n",
       "</style>\n",
       "<table border=\"1\" class=\"dataframe\">\n",
       "  <thead>\n",
       "    <tr style=\"text-align: right;\">\n",
       "      <th></th>\n",
       "      <th>NAME</th>\n",
       "      <th>X</th>\n",
       "      <th>Y</th>\n",
       "      <th>ZONE</th>\n",
       "      <th>SUBZONE</th>\n",
       "      <th>SECTOR</th>\n",
       "      <th>RESERVOIR</th>\n",
       "      <th>TYPE</th>\n",
       "    </tr>\n",
       "  </thead>\n",
       "  <tbody>\n",
       "    <tr>\n",
       "      <th>0</th>\n",
       "      <td>Inj0</td>\n",
       "      <td>1000</td>\n",
       "      <td>0</td>\n",
       "      <td>Unique</td>\n",
       "      <td>Unique</td>\n",
       "      <td>0</td>\n",
       "      <td>Unique</td>\n",
       "      <td>Injector</td>\n",
       "    </tr>\n",
       "    <tr>\n",
       "      <th>1</th>\n",
       "      <td>Inj1</td>\n",
       "      <td>0</td>\n",
       "      <td>1000</td>\n",
       "      <td>Unique</td>\n",
       "      <td>Unique</td>\n",
       "      <td>0</td>\n",
       "      <td>Unique</td>\n",
       "      <td>Injector</td>\n",
       "    </tr>\n",
       "    <tr>\n",
       "      <th>2</th>\n",
       "      <td>Inj2</td>\n",
       "      <td>-1000</td>\n",
       "      <td>0</td>\n",
       "      <td>Unique</td>\n",
       "      <td>Unique</td>\n",
       "      <td>0</td>\n",
       "      <td>Unique</td>\n",
       "      <td>Injector</td>\n",
       "    </tr>\n",
       "    <tr>\n",
       "      <th>3</th>\n",
       "      <td>Inj3</td>\n",
       "      <td>0</td>\n",
       "      <td>-1000</td>\n",
       "      <td>Unique</td>\n",
       "      <td>Unique</td>\n",
       "      <td>0</td>\n",
       "      <td>Unique</td>\n",
       "      <td>Injector</td>\n",
       "    </tr>\n",
       "    <tr>\n",
       "      <th>4</th>\n",
       "      <td>Producer1</td>\n",
       "      <td>0</td>\n",
       "      <td>0</td>\n",
       "      <td>Unique</td>\n",
       "      <td>Unique</td>\n",
       "      <td>0</td>\n",
       "      <td>Unique</td>\n",
       "      <td>Producer</td>\n",
       "    </tr>\n",
       "    <tr>\n",
       "      <th>5</th>\n",
       "      <td>Producer2</td>\n",
       "      <td>500</td>\n",
       "      <td>500</td>\n",
       "      <td>Unique</td>\n",
       "      <td>Unique</td>\n",
       "      <td>0</td>\n",
       "      <td>Unique</td>\n",
       "      <td>Producer</td>\n",
       "    </tr>\n",
       "    <tr>\n",
       "      <th>6</th>\n",
       "      <td>Producer3</td>\n",
       "      <td>1000</td>\n",
       "      <td>1000</td>\n",
       "      <td>Unique</td>\n",
       "      <td>Unique</td>\n",
       "      <td>0</td>\n",
       "      <td>Unique</td>\n",
       "      <td>Producer</td>\n",
       "    </tr>\n",
       "  </tbody>\n",
       "</table>\n",
       "</div>"
      ],
      "text/plain": [
       "        NAME      X      Y    ZONE SUBZONE  SECTOR RESERVOIR      TYPE\n",
       "0       Inj0   1000      0  Unique  Unique       0    Unique  Injector\n",
       "1       Inj1      0   1000  Unique  Unique       0    Unique  Injector\n",
       "2       Inj2  -1000      0  Unique  Unique       0    Unique  Injector\n",
       "3       Inj3      0  -1000  Unique  Unique       0    Unique  Injector\n",
       "4  Producer1      0      0  Unique  Unique       0    Unique  Producer\n",
       "5  Producer2    500    500  Unique  Unique       0    Unique  Producer\n",
       "6  Producer3   1000   1000  Unique  Unique       0    Unique  Producer"
      ]
     },
     "metadata": {},
     "output_type": "display_data"
    }
   ],
   "source": [
    "dataset = CRMDataset.generate_default_multiwell_dataset() \n",
    "display(dataset.injectors_df.head(5))\n",
    "display(dataset.producers_df.head(5))\n",
    "display(dataset.locations_df)\n",
    "\n",
    "w = dataset.producers_df.copy()\n",
    "w['GAS_VOLUME'] = 0.1 * w['LIQUID_VOLUME']\n",
    "w['OIL_VOLUME'] = 0.2 * w['LIQUID_VOLUME']\n",
    "w['WATER_VOLUME'] = 0.1 * w['LIQUID_VOLUME']\n",
    "dataset.producers_df = w \n"
   ]
  },
  {
   "cell_type": "code",
   "execution_count": 91,
   "metadata": {},
   "outputs": [
    {
     "name": "stdout",
     "output_type": "stream",
     "text": [
      "We have a fix-time gaps instruction\n"
     ]
    },
    {
     "data": {
      "application/vnd.plotly.v1+json": {
       "config": {
        "plotlyServerURL": "https://plot.ly"
       },
       "data": [
        {
         "hole": 0.4,
         "labels": [
          "Water",
          "Oil",
          "Gas"
         ],
         "name": "Fractions",
         "type": "pie",
         "values": [
          0.2,
          0.5,
          0.2
         ]
        }
       ],
       "layout": {
        "legend": {
         "orientation": "h",
         "x": 0.5,
         "xanchor": "center",
         "y": -0.2,
         "yanchor": "bottom"
        },
        "template": {
         "data": {
          "bar": [
           {
            "error_x": {
             "color": "#2a3f5f"
            },
            "error_y": {
             "color": "#2a3f5f"
            },
            "marker": {
             "line": {
              "color": "#E5ECF6",
              "width": 0.5
             },
             "pattern": {
              "fillmode": "overlay",
              "size": 10,
              "solidity": 0.2
             }
            },
            "type": "bar"
           }
          ],
          "barpolar": [
           {
            "marker": {
             "line": {
              "color": "#E5ECF6",
              "width": 0.5
             },
             "pattern": {
              "fillmode": "overlay",
              "size": 10,
              "solidity": 0.2
             }
            },
            "type": "barpolar"
           }
          ],
          "carpet": [
           {
            "aaxis": {
             "endlinecolor": "#2a3f5f",
             "gridcolor": "white",
             "linecolor": "white",
             "minorgridcolor": "white",
             "startlinecolor": "#2a3f5f"
            },
            "baxis": {
             "endlinecolor": "#2a3f5f",
             "gridcolor": "white",
             "linecolor": "white",
             "minorgridcolor": "white",
             "startlinecolor": "#2a3f5f"
            },
            "type": "carpet"
           }
          ],
          "choropleth": [
           {
            "colorbar": {
             "outlinewidth": 0,
             "ticks": ""
            },
            "type": "choropleth"
           }
          ],
          "contour": [
           {
            "colorbar": {
             "outlinewidth": 0,
             "ticks": ""
            },
            "colorscale": [
             [
              0,
              "#0d0887"
             ],
             [
              0.1111111111111111,
              "#46039f"
             ],
             [
              0.2222222222222222,
              "#7201a8"
             ],
             [
              0.3333333333333333,
              "#9c179e"
             ],
             [
              0.4444444444444444,
              "#bd3786"
             ],
             [
              0.5555555555555556,
              "#d8576b"
             ],
             [
              0.6666666666666666,
              "#ed7953"
             ],
             [
              0.7777777777777778,
              "#fb9f3a"
             ],
             [
              0.8888888888888888,
              "#fdca26"
             ],
             [
              1,
              "#f0f921"
             ]
            ],
            "type": "contour"
           }
          ],
          "contourcarpet": [
           {
            "colorbar": {
             "outlinewidth": 0,
             "ticks": ""
            },
            "type": "contourcarpet"
           }
          ],
          "heatmap": [
           {
            "colorbar": {
             "outlinewidth": 0,
             "ticks": ""
            },
            "colorscale": [
             [
              0,
              "#0d0887"
             ],
             [
              0.1111111111111111,
              "#46039f"
             ],
             [
              0.2222222222222222,
              "#7201a8"
             ],
             [
              0.3333333333333333,
              "#9c179e"
             ],
             [
              0.4444444444444444,
              "#bd3786"
             ],
             [
              0.5555555555555556,
              "#d8576b"
             ],
             [
              0.6666666666666666,
              "#ed7953"
             ],
             [
              0.7777777777777778,
              "#fb9f3a"
             ],
             [
              0.8888888888888888,
              "#fdca26"
             ],
             [
              1,
              "#f0f921"
             ]
            ],
            "type": "heatmap"
           }
          ],
          "histogram": [
           {
            "marker": {
             "pattern": {
              "fillmode": "overlay",
              "size": 10,
              "solidity": 0.2
             }
            },
            "type": "histogram"
           }
          ],
          "histogram2d": [
           {
            "colorbar": {
             "outlinewidth": 0,
             "ticks": ""
            },
            "colorscale": [
             [
              0,
              "#0d0887"
             ],
             [
              0.1111111111111111,
              "#46039f"
             ],
             [
              0.2222222222222222,
              "#7201a8"
             ],
             [
              0.3333333333333333,
              "#9c179e"
             ],
             [
              0.4444444444444444,
              "#bd3786"
             ],
             [
              0.5555555555555556,
              "#d8576b"
             ],
             [
              0.6666666666666666,
              "#ed7953"
             ],
             [
              0.7777777777777778,
              "#fb9f3a"
             ],
             [
              0.8888888888888888,
              "#fdca26"
             ],
             [
              1,
              "#f0f921"
             ]
            ],
            "type": "histogram2d"
           }
          ],
          "histogram2dcontour": [
           {
            "colorbar": {
             "outlinewidth": 0,
             "ticks": ""
            },
            "colorscale": [
             [
              0,
              "#0d0887"
             ],
             [
              0.1111111111111111,
              "#46039f"
             ],
             [
              0.2222222222222222,
              "#7201a8"
             ],
             [
              0.3333333333333333,
              "#9c179e"
             ],
             [
              0.4444444444444444,
              "#bd3786"
             ],
             [
              0.5555555555555556,
              "#d8576b"
             ],
             [
              0.6666666666666666,
              "#ed7953"
             ],
             [
              0.7777777777777778,
              "#fb9f3a"
             ],
             [
              0.8888888888888888,
              "#fdca26"
             ],
             [
              1,
              "#f0f921"
             ]
            ],
            "type": "histogram2dcontour"
           }
          ],
          "mesh3d": [
           {
            "colorbar": {
             "outlinewidth": 0,
             "ticks": ""
            },
            "type": "mesh3d"
           }
          ],
          "parcoords": [
           {
            "line": {
             "colorbar": {
              "outlinewidth": 0,
              "ticks": ""
             }
            },
            "type": "parcoords"
           }
          ],
          "pie": [
           {
            "automargin": true,
            "type": "pie"
           }
          ],
          "scatter": [
           {
            "fillpattern": {
             "fillmode": "overlay",
             "size": 10,
             "solidity": 0.2
            },
            "type": "scatter"
           }
          ],
          "scatter3d": [
           {
            "line": {
             "colorbar": {
              "outlinewidth": 0,
              "ticks": ""
             }
            },
            "marker": {
             "colorbar": {
              "outlinewidth": 0,
              "ticks": ""
             }
            },
            "type": "scatter3d"
           }
          ],
          "scattercarpet": [
           {
            "marker": {
             "colorbar": {
              "outlinewidth": 0,
              "ticks": ""
             }
            },
            "type": "scattercarpet"
           }
          ],
          "scattergeo": [
           {
            "marker": {
             "colorbar": {
              "outlinewidth": 0,
              "ticks": ""
             }
            },
            "type": "scattergeo"
           }
          ],
          "scattergl": [
           {
            "marker": {
             "colorbar": {
              "outlinewidth": 0,
              "ticks": ""
             }
            },
            "type": "scattergl"
           }
          ],
          "scattermap": [
           {
            "marker": {
             "colorbar": {
              "outlinewidth": 0,
              "ticks": ""
             }
            },
            "type": "scattermap"
           }
          ],
          "scattermapbox": [
           {
            "marker": {
             "colorbar": {
              "outlinewidth": 0,
              "ticks": ""
             }
            },
            "type": "scattermapbox"
           }
          ],
          "scatterpolar": [
           {
            "marker": {
             "colorbar": {
              "outlinewidth": 0,
              "ticks": ""
             }
            },
            "type": "scatterpolar"
           }
          ],
          "scatterpolargl": [
           {
            "marker": {
             "colorbar": {
              "outlinewidth": 0,
              "ticks": ""
             }
            },
            "type": "scatterpolargl"
           }
          ],
          "scatterternary": [
           {
            "marker": {
             "colorbar": {
              "outlinewidth": 0,
              "ticks": ""
             }
            },
            "type": "scatterternary"
           }
          ],
          "surface": [
           {
            "colorbar": {
             "outlinewidth": 0,
             "ticks": ""
            },
            "colorscale": [
             [
              0,
              "#0d0887"
             ],
             [
              0.1111111111111111,
              "#46039f"
             ],
             [
              0.2222222222222222,
              "#7201a8"
             ],
             [
              0.3333333333333333,
              "#9c179e"
             ],
             [
              0.4444444444444444,
              "#bd3786"
             ],
             [
              0.5555555555555556,
              "#d8576b"
             ],
             [
              0.6666666666666666,
              "#ed7953"
             ],
             [
              0.7777777777777778,
              "#fb9f3a"
             ],
             [
              0.8888888888888888,
              "#fdca26"
             ],
             [
              1,
              "#f0f921"
             ]
            ],
            "type": "surface"
           }
          ],
          "table": [
           {
            "cells": {
             "fill": {
              "color": "#EBF0F8"
             },
             "line": {
              "color": "white"
             }
            },
            "header": {
             "fill": {
              "color": "#C8D4E3"
             },
             "line": {
              "color": "white"
             }
            },
            "type": "table"
           }
          ]
         },
         "layout": {
          "annotationdefaults": {
           "arrowcolor": "#2a3f5f",
           "arrowhead": 0,
           "arrowwidth": 1
          },
          "autotypenumbers": "strict",
          "coloraxis": {
           "colorbar": {
            "outlinewidth": 0,
            "ticks": ""
           }
          },
          "colorscale": {
           "diverging": [
            [
             0,
             "#8e0152"
            ],
            [
             0.1,
             "#c51b7d"
            ],
            [
             0.2,
             "#de77ae"
            ],
            [
             0.3,
             "#f1b6da"
            ],
            [
             0.4,
             "#fde0ef"
            ],
            [
             0.5,
             "#f7f7f7"
            ],
            [
             0.6,
             "#e6f5d0"
            ],
            [
             0.7,
             "#b8e186"
            ],
            [
             0.8,
             "#7fbc41"
            ],
            [
             0.9,
             "#4d9221"
            ],
            [
             1,
             "#276419"
            ]
           ],
           "sequential": [
            [
             0,
             "#0d0887"
            ],
            [
             0.1111111111111111,
             "#46039f"
            ],
            [
             0.2222222222222222,
             "#7201a8"
            ],
            [
             0.3333333333333333,
             "#9c179e"
            ],
            [
             0.4444444444444444,
             "#bd3786"
            ],
            [
             0.5555555555555556,
             "#d8576b"
            ],
            [
             0.6666666666666666,
             "#ed7953"
            ],
            [
             0.7777777777777778,
             "#fb9f3a"
            ],
            [
             0.8888888888888888,
             "#fdca26"
            ],
            [
             1,
             "#f0f921"
            ]
           ],
           "sequentialminus": [
            [
             0,
             "#0d0887"
            ],
            [
             0.1111111111111111,
             "#46039f"
            ],
            [
             0.2222222222222222,
             "#7201a8"
            ],
            [
             0.3333333333333333,
             "#9c179e"
            ],
            [
             0.4444444444444444,
             "#bd3786"
            ],
            [
             0.5555555555555556,
             "#d8576b"
            ],
            [
             0.6666666666666666,
             "#ed7953"
            ],
            [
             0.7777777777777778,
             "#fb9f3a"
            ],
            [
             0.8888888888888888,
             "#fdca26"
            ],
            [
             1,
             "#f0f921"
            ]
           ]
          },
          "colorway": [
           "#636efa",
           "#EF553B",
           "#00cc96",
           "#ab63fa",
           "#FFA15A",
           "#19d3f3",
           "#FF6692",
           "#B6E880",
           "#FF97FF",
           "#FECB52"
          ],
          "font": {
           "color": "#2a3f5f"
          },
          "geo": {
           "bgcolor": "white",
           "lakecolor": "white",
           "landcolor": "#E5ECF6",
           "showlakes": true,
           "showland": true,
           "subunitcolor": "white"
          },
          "hoverlabel": {
           "align": "left"
          },
          "hovermode": "closest",
          "mapbox": {
           "style": "light"
          },
          "paper_bgcolor": "white",
          "plot_bgcolor": "#E5ECF6",
          "polar": {
           "angularaxis": {
            "gridcolor": "white",
            "linecolor": "white",
            "ticks": ""
           },
           "bgcolor": "#E5ECF6",
           "radialaxis": {
            "gridcolor": "white",
            "linecolor": "white",
            "ticks": ""
           }
          },
          "scene": {
           "xaxis": {
            "backgroundcolor": "#E5ECF6",
            "gridcolor": "white",
            "gridwidth": 2,
            "linecolor": "white",
            "showbackground": true,
            "ticks": "",
            "zerolinecolor": "white"
           },
           "yaxis": {
            "backgroundcolor": "#E5ECF6",
            "gridcolor": "white",
            "gridwidth": 2,
            "linecolor": "white",
            "showbackground": true,
            "ticks": "",
            "zerolinecolor": "white"
           },
           "zaxis": {
            "backgroundcolor": "#E5ECF6",
            "gridcolor": "white",
            "gridwidth": 2,
            "linecolor": "white",
            "showbackground": true,
            "ticks": "",
            "zerolinecolor": "white"
           }
          },
          "shapedefaults": {
           "line": {
            "color": "#2a3f5f"
           }
          },
          "ternary": {
           "aaxis": {
            "gridcolor": "white",
            "linecolor": "white",
            "ticks": ""
           },
           "baxis": {
            "gridcolor": "white",
            "linecolor": "white",
            "ticks": ""
           },
           "bgcolor": "#E5ECF6",
           "caxis": {
            "gridcolor": "white",
            "linecolor": "white",
            "ticks": ""
           }
          },
          "title": {
           "x": 0.05
          },
          "xaxis": {
           "automargin": true,
           "gridcolor": "white",
           "linecolor": "white",
           "ticks": "",
           "title": {
            "standoff": 15
           },
           "zerolinecolor": "white",
           "zerolinewidth": 2
          },
          "yaxis": {
           "automargin": true,
           "gridcolor": "white",
           "linecolor": "white",
           "ticks": "",
           "title": {
            "standoff": 15
           },
           "zerolinecolor": "white",
           "zerolinewidth": 2
          }
         }
        },
        "title": {
         "text": "Volume fractions  present-day (08-01-2023)"
        }
       }
      }
     },
     "metadata": {},
     "output_type": "display_data"
    }
   ],
   "source": [
    "filters = {\n",
    "    'zone': 'Unique', 'subzone':'Unique'\n",
    "}\n",
    "d= apply_dataset_filters( dataset, filters )\n",
    "p = d.get_pattern(fix_time_gaps=True, fill_nan=0.0)\n",
    "\n",
    "def fractions_plot( pattern, cummulative = False ):\n",
    "    liquid_production_summary = pattern.liquid_production.sum(axis=1)\n",
    "    water_production_summary  = pattern.water_production.sum(axis=1)\n",
    "    oil_production_summary    = pattern.oil_production.sum(axis=1)\n",
    "    gas_production_summary    = pattern.gas_production.sum(axis=1)\n",
    "    liquid_production_summary\n",
    "    \n",
    "    fractions_dfs = [water_production_summary, oil_production_summary,gas_production_summary]\n",
    "    fractions_labels = ['Water', 'Oil','Gas']\n",
    "    fractions_data   = []\n",
    "    sum_values = 1.0 \n",
    "    last_date = water_production_summary.index.max() \n",
    "\n",
    "    for n, w in enumerate(fractions_dfs):\n",
    "        if cummulative:\n",
    "            w = w.cumsum(axis = 0 )  \n",
    "            \n",
    "        last_date_value = w.loc[ w.index.max() ]\n",
    "        fractions_data.append(last_date_value)\n",
    "        sum_values = sum_values + last_date_value \n",
    "        last_date = max( last_date, w.index.max() )\n",
    "    for n in range( len(fractions_data )):\n",
    "        fractions_data[n] = round( fractions_data[n] / sum_values, 1 ) \n",
    "    \n",
    "        x = 'cummulative' if cummulative == True else '' \n",
    "        layout = copy.deepcopy( default_plotly_layout_python() )\n",
    "        title = f'Volume fractions {x} present-day ({last_date.strftime(\"%d-%m-%Y\")})'\n",
    "        fig_dict  = {'data' : { 'values':fractions_data,'labels':fractions_labels, 'type':'pie','hole':0.4, 'name':'Fractions'}}\n",
    "        fig_dict['layout'] = {'title':title}\n",
    "        fig_dict['layout']['legend'] =dict(orientation='h',yanchor='bottom',y=-0.2,xanchor='center',x=0.5)\n",
    "    return fig_dict\n",
    "\n",
    "fig = fractions_plot( p, cummulative = False )\n",
    "pio.show( fig )\n"
   ]
  },
  {
   "cell_type": "code",
   "execution_count": null,
   "metadata": {},
   "outputs": [],
   "source": []
  },
  {
   "cell_type": "code",
   "execution_count": null,
   "metadata": {},
   "outputs": [],
   "source": []
  }
 ],
 "metadata": {
  "kernelspec": {
   "display_name": ".venv",
   "language": "python",
   "name": "python3"
  },
  "language_info": {
   "codemirror_mode": {
    "name": "ipython",
    "version": 3
   },
   "file_extension": ".py",
   "mimetype": "text/x-python",
   "name": "python",
   "nbconvert_exporter": "python",
   "pygments_lexer": "ipython3",
   "version": "3.9.13"
  }
 },
 "nbformat": 4,
 "nbformat_minor": 2
}
